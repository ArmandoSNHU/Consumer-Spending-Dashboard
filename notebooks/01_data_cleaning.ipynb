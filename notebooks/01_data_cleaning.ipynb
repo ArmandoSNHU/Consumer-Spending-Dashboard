{
 "cells": [
  {
   "cell_type": "code",
   "execution_count": 2,
   "id": "08f09857",
   "metadata": {},
   "outputs": [
    {
     "name": "stdout",
     "output_type": "stream",
     "text": [
      "         date       category  spend_amount     location age_group  \\\n",
      "0  2022-01-01      Groceries        125.50       Dallas     25-34   \n",
      "1  2022-01-01  Entertainment         55.00       Austin     18-24   \n",
      "2  2022-01-02         Travel        200.00      Houston     35-44   \n",
      "3  2022-01-03      Groceries        142.25       Dallas     45-54   \n",
      "4  2022-01-03      Utilities         90.00  San Antonio     55-64   \n",
      "\n",
      "  payment_method  \n",
      "0          Debit  \n",
      "1         Credit  \n",
      "2         Credit  \n",
      "3           Cash  \n",
      "4          Debit  \n"
     ]
    }
   ],
   "source": [
    "# 01_data_cleaning.ipynb\n",
    "\n",
    "import pandas as pd\n",
    "\n",
    "# Load raw data\n",
    "df = pd.read_csv('../data/raw/consumer_spending.csv')\n",
    "\n",
    "# Inspect\n",
    "print(df.head())\n",
    "\n",
    "# Data Cleaning Steps\n",
    "df = df.dropna(subset=['spend_amount'])\n",
    "df['date'] = pd.to_datetime(df['date'])\n",
    "\n",
    "# Save cleaned data\n",
    "df.to_csv('../data/processed/cleaned_spending.csv', index=False)\n"
   ]
  }
 ],
 "metadata": {
  "kernelspec": {
   "display_name": "Python 3",
   "language": "python",
   "name": "python3"
  },
  "language_info": {
   "codemirror_mode": {
    "name": "ipython",
    "version": 3
   },
   "file_extension": ".py",
   "mimetype": "text/x-python",
   "name": "python",
   "nbconvert_exporter": "python",
   "pygments_lexer": "ipython3",
   "version": "3.10.11"
  }
 },
 "nbformat": 4,
 "nbformat_minor": 5
}
