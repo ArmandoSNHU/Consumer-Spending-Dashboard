{
 "cells": [
  {
   "cell_type": "code",
   "execution_count": null,
   "id": "08f09857",
   "metadata": {
    "vscode": {
     "languageId": "plaintext"
    }
   },
   "outputs": [],
   "source": [
    "# 01_data_cleaning.ipynb\n",
    "\n",
    "import pandas as pd\n",
    "\n",
    "# Load raw data\n",
    "df = pd.read_csv('../data/raw/consumer_spending.csv')\n",
    "\n",
    "# Inspect\n",
    "print(df.head())\n",
    "\n",
    "# Data Cleaning Steps\n",
    "df = df.dropna(subset=['spend_amount'])\n",
    "df['date'] = pd.to_datetime(df['date'])\n",
    "\n",
    "# Save cleaned data\n",
    "df.to_csv('../data/processed/cleaned_spending.csv', index=False)\n"
   ]
  }
 ],
 "metadata": {
  "language_info": {
   "name": "python"
  }
 },
 "nbformat": 4,
 "nbformat_minor": 5
}
